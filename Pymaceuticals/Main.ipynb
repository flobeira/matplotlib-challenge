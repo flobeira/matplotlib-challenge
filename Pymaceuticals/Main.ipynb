{
 "cells": [
  {
   "cell_type": "code",
   "execution_count": null,
   "metadata": {},
   "outputs": [],
   "source": [
    "# Francisco Lobeira\n",
    "# Dependencies and Setup\n",
    "import matplotlib.pyplot as plt\n",
    "import pandas as pd\n",
    "import scipy.stats as st\n",
    "from functools import reduce\n",
    "import numpy as np\n",
    "\n",
    "# Study data files\n",
    "mouse_metadata = \"data/Mouse_metadata.csv\"\n",
    "study_results = \"data/Study_results.csv\"\n",
    "\n",
    "# Read the mouse data and the study results\n",
    "mouse_metadata = pd.read_csv(mouse_metadata)\n",
    "study_results = pd.read_csv(study_results)"
   ]
  },
  {
   "cell_type": "code",
   "execution_count": null,
   "metadata": {},
   "outputs": [],
   "source": [
    "# Mouse data table print\n",
    "mouse_metadata.head()\n",
    "#len(mouse_metadata)"
   ]
  },
  {
   "cell_type": "code",
   "execution_count": null,
   "metadata": {},
   "outputs": [],
   "source": [
    "# Study results table print\n",
    "study_results.head()\n",
    "#len(study_results)"
   ]
  },
  {
   "cell_type": "code",
   "execution_count": null,
   "metadata": {},
   "outputs": [],
   "source": [
    "# Understand the data\n",
    "u = study_results[\"Mouse ID\"].unique()\n",
    "len(u)\n"
   ]
  },
  {
   "cell_type": "code",
   "execution_count": null,
   "metadata": {},
   "outputs": [],
   "source": [
    "# There are 249 unique values in the Mouse ID column in both data sets\n",
    "# Merge the two data sets\n",
    "combined_df = pd.merge(mouse_metadata, study_results, on = \"Mouse ID\", how = \"outer\")\n",
    "combined_df.head(300)"
   ]
  },
  {
   "cell_type": "code",
   "execution_count": null,
   "metadata": {},
   "outputs": [],
   "source": [
    "# make sure all the rows are in th enew combined df\n",
    "len(combined_df)"
   ]
  },
  {
   "cell_type": "code",
   "execution_count": null,
   "metadata": {},
   "outputs": [],
   "source": [
    "# Generate a summary statistics table of mean, median, variance, standard deviation, and SEM of the tumor volume for each regimen\n",
    "u_regimen = combined_df[\"Drug Regimen\"].unique()\n",
    "u_regimen"
   ]
  },
  {
   "cell_type": "code",
   "execution_count": null,
   "metadata": {
    "scrolled": true
   },
   "outputs": [],
   "source": [
    "## testing ##\n",
    "regimen_gb = combined_df.groupby(['Drug Regimen'])\n",
    "regimen_gb.head(5)"
   ]
  },
  {
   "cell_type": "code",
   "execution_count": null,
   "metadata": {},
   "outputs": [],
   "source": [
    "# Extra... \n",
    "# generate a summary stat table for the entire population use tumor volume\n",
    "\n",
    "v_mean = combined_df['Tumor Volume (mm3)'].mean()\n",
    "v_median = combined_df['Tumor Volume (mm3)'].median()\n",
    "v_mode = combined_df['Tumor Volume (mm3)'].mode()\n",
    "v_sem = combined_df['Tumor Volume (mm3)'].sem()\n",
    "v_std = combined_df['Tumor Volume (mm3)'].std()"
   ]
  },
  {
   "cell_type": "code",
   "execution_count": null,
   "metadata": {},
   "outputs": [],
   "source": [
    "#Summary Statistics fro each regimen\n",
    "# I will create different data frames and then combine them to get the desired solution\n",
    "mean_df = combined_df.groupby(\"Drug Regimen\")['Tumor Volume (mm3)'].mean().reset_index()\n",
    "median_df = combined_df.groupby(\"Drug Regimen\")['Tumor Volume (mm3)'].median().reset_index()\n",
    "sem_df = combined_df.groupby(\"Drug Regimen\")['Tumor Volume (mm3)'].sem().reset_index()\n",
    "std_df = combined_df.groupby(\"Drug Regimen\")['Tumor Volume (mm3)'].std().reset_index()"
   ]
  },
  {
   "cell_type": "code",
   "execution_count": null,
   "metadata": {},
   "outputs": [],
   "source": [
    "# Merge all the data frames to have a single table with all the info\n",
    "mergeOne = pd.merge(mean_df, median_df, on = \"Drug Regimen\", how = \"outer\")\n",
    "mergeTwo = pd.merge(mergeOne, sem_df, on = \"Drug Regimen\", how = \"outer\")\n",
    "summaryStats = pd.merge(mergeTwo, std_df, on = \"Drug Regimen\", how = \"outer\")\n",
    "summaryStats"
   ]
  },
  {
   "cell_type": "code",
   "execution_count": null,
   "metadata": {},
   "outputs": [],
   "source": [
    "# Rename teh columns so thet it makes sense\n",
    "summaryStats.columns= ['Drug Regimen', 'Average', 'Median', 'SME', \"STD\"]\n",
    "summaryStats"
   ]
  },
  {
   "cell_type": "code",
   "execution_count": null,
   "metadata": {},
   "outputs": [],
   "source": [
    "# Using DataFrame.plot\n",
    "regimen_count_df = combined_df.groupby(['Drug Regimen'])['Age_months'].count()\n",
    "regimen_count_df.plot.bar()\n",
    "plt.title(\"Number of mice in each Regimen\")\n",
    "plt.ylabel(\"Count\")"
   ]
  },
  {
   "cell_type": "code",
   "execution_count": null,
   "metadata": {},
   "outputs": [],
   "source": [
    "# Using Matplotlib's pyplot\n",
    "regimen_count_df = combined_df.groupby(['Drug Regimen'])['Age_months'].count()\n",
    "x_axis = np.arange(len(regimen_count_df))\n"
   ]
  },
  {
   "cell_type": "code",
   "execution_count": null,
   "metadata": {},
   "outputs": [],
   "source": [
    "plt.bar(x_axis, regimen_count_df, color='b', alpha=0.5, align=\"center\")\n",
    "tick_locations = [value for value in x_axis]\n",
    "plt.xticks(tick_locations, [\"Capomulin\", \"Ceftamin\", \"Infubinol\", \"Ketapril\", \"Naftisol\", \"Placebo\", \"Propriva\",\n",
    "                            \"Ramicane\", \"Stelasyn\", \"Zoniferol\"], rotation = 90)\n",
    "plt.title(\"Number of mice in each Regimen\")\n",
    "plt.ylabel(\"Count\")\n",
    "plt.xlabel(\"Drug Regimen\")"
   ]
  },
  {
   "cell_type": "code",
   "execution_count": null,
   "metadata": {},
   "outputs": [],
   "source": [
    "# Using DataFrame.plot\n",
    "sex = combined_df.groupby(['Sex'])['Age_months'].count()\n",
    "sex.plot.pie()\n",
    "plt.title(\"Male vs Female\")"
   ]
  },
  {
   "cell_type": "code",
   "execution_count": null,
   "metadata": {},
   "outputs": [],
   "source": [
    "labels = [\"Male\",\"Female\"]\n",
    "sizes = sex\n",
    "colors = [\"blue\", \"orange\"]\n",
    "\n",
    "plt.pie(sizes, labels=labels, colors=colors,\n",
    "        autopct=\"%1.1f%%\", shadow=True, startangle=140)"
   ]
  },
  {
   "cell_type": "code",
   "execution_count": null,
   "metadata": {},
   "outputs": [],
   "source": [
    "#Create 4 data frames for the 4 regimens we wan to analize (Capomulin, Ramicane, Infubinol, and Ceftamin.)\n",
    "capomulin_df = combined_df.loc[combined_df[\"Drug Regimen\"] == \"Capomulin\"]\n",
    "ramicane_df = combined_df.loc[combined_df[\"Drug Regimen\"] == \"Ramicane\"]\n",
    "infubinol_df = combined_df.loc[combined_df[\"Drug Regimen\"] == \"Infubinol\"]\n",
    "caftamin_df = combined_df.loc[combined_df[\"Drug Regimen\"] == \"Ceftamin\"]\n",
    "capomulin_df"
   ]
  },
  {
   "cell_type": "code",
   "execution_count": null,
   "metadata": {},
   "outputs": [],
   "source": [
    "# Calculate the final tumor volume of each mouse across four of the most promising treatment regimens\n",
    "cap_finalV = capomulin_df.groupby(['Mouse ID'])['Tumor Volume (mm3)','Timepoint'].max()\n",
    "ram_finalV = ramicane_df.groupby(['Mouse ID'])['Tumor Volume (mm3)','Timepoint'].max()\n",
    "inf_finalV = infubinol_df.groupby(['Mouse ID'])['Tumor Volume (mm3)','Timepoint'].max()\n",
    "caft_finalV = caftamin_df.groupby(['Mouse ID'])['Tumor Volume (mm3)','Timepoint'].max()\n",
    "cap_finalV"
   ]
  },
  {
   "cell_type": "code",
   "execution_count": null,
   "metadata": {},
   "outputs": [],
   "source": [
    "# Calculate the final tumor volume of each mouse across Ramicane\n",
    "ram_finalV"
   ]
  },
  {
   "cell_type": "code",
   "execution_count": null,
   "metadata": {},
   "outputs": [],
   "source": [
    "# Calculate the final tumor volume of each mouse across Infubinol\n",
    "inf_finalV"
   ]
  },
  {
   "cell_type": "code",
   "execution_count": null,
   "metadata": {},
   "outputs": [],
   "source": [
    "# Calculate the final tumor volume of each mouse across Caftamin\n",
    "caft_finalV"
   ]
  },
  {
   "cell_type": "code",
   "execution_count": null,
   "metadata": {},
   "outputs": [],
   "source": [
    "# Determine if there are any potential outliers in capomulin\n",
    "quartiles = capomulin_df['Tumor Volume (mm3)'].quantile([.25,.5,.75])\n",
    "lowerq = quartiles[0.25]\n",
    "upperq = quartiles[0.75]\n",
    "iqr = upperq-lowerq\n",
    "\n",
    "print(f\"The lower quartile of occupancy is: {lowerq}\")\n",
    "print(f\"The upper quartile of occupancy is: {upperq}\")\n",
    "print(f\"The interquartile range of occupancy is: {iqr}\")\n",
    "print(f\"The the median of occupancy is: {quartiles[0.5]} \")\n",
    "\n",
    "lower_bound = lowerq - (1.5*iqr)\n",
    "upper_bound = upperq + (1.5*iqr)\n",
    "print(f\"Values below {lower_bound} could be outliers.\")\n",
    "print(f\"Values above {upper_bound} could be outliers.\")\n",
    "\n",
    "outlier_occupancy = capomulin_df.loc[(capomulin_df['Tumor Volume (mm3)'] < lower_bound) | (capomulin_df['Tumor Volume (mm3)'] > upper_bound)]\n",
    "outlier_occupancy"
   ]
  },
  {
   "cell_type": "code",
   "execution_count": null,
   "metadata": {},
   "outputs": [],
   "source": [
    "# Determine if there are any potential outliers in capomulin\n",
    "quartiles2 = ramicane_df['Tumor Volume (mm3)'].quantile([.25,.5,.75])\n",
    "lowerq2 = quartiles[0.25]\n",
    "upperq2 = quartiles[0.75]\n",
    "iqr2 = upperq2-lowerq2\n",
    "\n",
    "print(f\"The lower quartile of occupancy is: {lowerq2}\")\n",
    "print(f\"The upper quartile of occupancy is: {upperq2}\")\n",
    "print(f\"The interquartile range of occupancy is: {iqr2}\")\n",
    "print(f\"The the median of occupancy is: {quartiles2[0.5]} \")\n",
    "\n",
    "lower_bound2 = lowerq2 - (1.5*iqr)\n",
    "upper_bound2 = upperq2 + (1.5*iqr)\n",
    "print(f\"Values below {lower_bound2} could be outliers.\")\n",
    "print(f\"Values above {upper_bound2} could be outliers.\")\n",
    "\n",
    "outlier_occupancy2 = ramicane_df.loc[(ramicane_df['Tumor Volume (mm3)'] < lower_bound2) | (ramicane_df['Tumor Volume (mm3)'] > upper_bound2)]\n",
    "outlier_occupancy2"
   ]
  },
  {
   "cell_type": "code",
   "execution_count": null,
   "metadata": {},
   "outputs": [],
   "source": [
    "# Determine if there are any potential outliers in infubinol\n",
    "quartiles3 = infubinol_df['Tumor Volume (mm3)'].quantile([.25,.5,.75])\n",
    "lowerq3 = quartiles[0.25]\n",
    "upperq3 = quartiles[0.75]\n",
    "iqr3 = upperq3-lowerq3\n",
    "\n",
    "print(f\"The lower quartile of occupancy is: {lowerq3}\")\n",
    "print(f\"The upper quartile of occupancy is: {upperq3}\")\n",
    "print(f\"The interquartile range of occupancy is: {iqr3}\")\n",
    "print(f\"The the median of occupancy is: {quartiles3[0.5]} \")\n",
    "\n",
    "lower_bound3 = lowerq3 - (1.5*iqr)\n",
    "upper_bound3 = upperq3 + (1.5*iqr)\n",
    "print(f\"Values below {lower_bound3} could be outliers.\")\n",
    "print(f\"Values above {upper_bound3} could be outliers.\")\n",
    "\n",
    "outlier_occupancy3 = infubinol_df.loc[(infubinol_df['Tumor Volume (mm3)'] < lower_bound3) | (infubinol_df['Tumor Volume (mm3)'] > upper_bound3)]\n",
    "outlier_occupancy3"
   ]
  },
  {
   "cell_type": "code",
   "execution_count": null,
   "metadata": {},
   "outputs": [],
   "source": [
    "# Determine if there are any potential outliers in caftamin\n",
    "quartiles = caftamin_df['Tumor Volume (mm3)'].quantile([.25,.5,.75])\n",
    "lowerq = quartiles[0.25]\n",
    "upperq = quartiles[0.75]\n",
    "iqr = upperq-lowerq\n",
    "\n",
    "print(f\"The lower quartile of occupancy is: {lowerq}\")\n",
    "print(f\"The upper quartile of occupancy is: {upperq}\")\n",
    "print(f\"The interquartile range of occupancy is: {iqr}\")\n",
    "print(f\"The the median of occupancy is: {quartiles[0.5]} \")\n",
    "\n",
    "lower_bound = lowerq - (1.5*iqr)\n",
    "upper_bound = upperq + (1.5*iqr)\n",
    "print(f\"Values below {lower_bound} could be outliers.\")\n",
    "print(f\"Values above {upper_bound} could be outliers.\")\n",
    "\n",
    "outlier_occupancy = caftamin_df.loc[(caftamin_df['Tumor Volume (mm3)'] < lower_bound) | (caftamin_df['Tumor Volume (mm3)'] > upper_bound)]\n",
    "outlier_occupancy"
   ]
  },
  {
   "cell_type": "code",
   "execution_count": 40,
   "metadata": {},
   "outputs": [
    {
     "data": {
      "image/png": "[encoded data removed]",
      "text/plain": [
       "<Figure size 432x288 with 1 Axes>"
      ]
     },
     "metadata": {
      "needs_background": "light"
     },
     "output_type": "display_data"
    },
    {
     "data": {
      "image/png": "[encoded data removed]",
      "text/plain": [
       "<Figure size 432x288 with 1 Axes>"
      ]
     },
     "metadata": {
      "needs_background": "light"
     },
     "output_type": "display_data"
    }
   ],
   "source": [
    "# Create a box plot\n",
    "capBox = capomulin_df['Tumor Volume (mm3)']\n",
    "ramBox = ramicane_df['Tumor Volume (mm3)']\n",
    "\n",
    "fig1, ax1 = plt.subplots()\n",
    "ax1.set_title('Tummor Volume')\n",
    "ax1.set_ylabel('mm3')\n",
    "ax1.boxplot(capBox)\n",
    "fig2, ax2 = plt.subplots()\n",
    "ax2.boxplot(ramBox)\n",
    "plt.show()"
   ]
  },
  {
   "cell_type": "code",
   "execution_count": null,
   "metadata": {},
   "outputs": [],
   "source": []
  }
 ],
 "metadata": {
  "kernelspec": {
   "display_name": "Python 3",
   "language": "python",
   "name": "python3"
  },
  "language_info": {
   "codemirror_mode": {
    "name": "ipython",
    "version": 3
   },
   "file_extension": ".py",
   "mimetype": "text/x-python",
   "name": "python",
   "nbconvert_exporter": "python",
   "pygments_lexer": "ipython3",
   "version": "3.7.4"
  }
 },
 "nbformat": 4,
 "nbformat_minor": 2
}
